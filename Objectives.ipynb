{
 "cells": [
  {
   "cell_type": "markdown",
   "metadata": {},
   "source": [
    "# Objectives\n",
    "1. C\n",
    "2. B\n",
    "3. B\n",
    "4. D\n",
    "5. C\n",
    "6. B\n",
    "7. A\n",
    "8. A\n",
    "9. A\n",
    "10. A\n"
   ]
  }
 ],
 "metadata": {
  "language_info": {
   "name": "python"
  }
 },
 "nbformat": 4,
 "nbformat_minor": 2
}
