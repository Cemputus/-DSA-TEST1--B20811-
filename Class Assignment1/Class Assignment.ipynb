{
 "cells": [
  {
   "cell_type": "code",
   "execution_count": 17,
   "metadata": {},
   "outputs": [],
   "source": [
    "import math\n",
    "import numpy as np\n",
    "\n"
   ]
  },
  {
   "cell_type": "code",
   "execution_count": 18,
   "metadata": {},
   "outputs": [
    {
     "name": "stdout",
     "output_type": "stream",
     "text": [
      "Degrees: 15\n",
      "Radians: 0.2617993877991494\n"
     ]
    }
   ],
   "source": [
    "#number 1\n",
    "def deg_to_rad(degrees):\n",
    "    return degrees * math.pi / 180\n",
    "#testing\n",
    "test_degrees = 15\n",
    "print(\"Degrees:\", test_degrees)\n",
    "print(\"Radians:\", deg_to_rad(test_degrees))"
   ]
  },
  {
   "cell_type": "code",
   "execution_count": 19,
   "metadata": {},
   "outputs": [
    {
     "name": "stdout",
     "output_type": "stream",
     "text": [
      "Base: 5\n",
      "Height: 6\n",
      "Area: 30\n"
     ]
    }
   ],
   "source": [
    "#number 2\n",
    "def parallelogram_area(base, height):\n",
    "    return base * height\n",
    "\n",
    "# Test the function with the given input\n",
    "test_base = 5\n",
    "test_height = 6\n",
    "print(\"Base:\", test_base)\n",
    "print(\"Height:\", test_height)\n",
    "print(\"Area:\", parallelogram_area(test_base, test_height))"
   ]
  },
  {
   "cell_type": "code",
   "execution_count": 20,
   "metadata": {},
   "outputs": [
    {
     "name": "stdout",
     "output_type": "stream",
     "text": [
      "[13, 1, 11, 1, 3, 2, 7, 1, 5, 2, 3, 2]\n",
      "360360\n"
     ]
    }
   ],
   "source": [
    "#number 3\n",
    "def find_smallest_multiple(n):\n",
    "    factors = []\n",
    "    multiple = 1\n",
    "\n",
    "    for i in range(2, n + 1):\n",
    "        temp = i\n",
    "        for factor in factors:\n",
    "            if temp % factor == 0:\n",
    "                temp //= factor\n",
    "        multiple *= temp\n",
    "        factors.append(temp)\n",
    "\n",
    "    return factors[::-1], multiple\n",
    "\n",
    "n = 13\n",
    "factors, smallest_multiple = find_smallest_multiple(n)\n",
    "\n",
    "print(factors)\n",
    "print(smallest_multiple)"
   ]
  },
  {
   "cell_type": "code",
   "execution_count": 21,
   "metadata": {},
   "outputs": [
    {
     "name": "stdout",
     "output_type": "stream",
     "text": [
      "Complex numbers in the array:\n",
      "(1+2j)\n",
      "(3+4j)\n",
      "(5+6j)\n",
      "Real numbers in the array:\n",
      "1\n",
      "2\n",
      "3\n",
      "10 is a scalar type\n"
     ]
    }
   ],
   "source": [
    "#number 4\n",
    "complex_array = np.array([1+2j, 3+4j, 5+6j])\n",
    "\n",
    "real_array = np.array([1, 2, 3])\n",
    "\n",
    "print(\"Complex numbers in the array:\")\n",
    "for element in complex_array:\n",
    "    if np.iscomplex(element):\n",
    "        print(element)\n",
    "\n",
    "print(\"Real numbers in the array:\")\n",
    "for element in real_array:\n",
    "    if np.isreal(element):\n",
    "        print(element)\n",
    "\n",
    "number = 10\n",
    "if np.isscalar(number):\n",
    "    print(\"{} is a scalar type\".format(number))"
   ]
  },
  {
   "cell_type": "code",
   "execution_count": 22,
   "metadata": {},
   "outputs": [
    {
     "name": "stdout",
     "output_type": "stream",
     "text": [
      "Memory size: 16\n"
     ]
    }
   ],
   "source": [
    "#number 5\n",
    "\n",
    "# Create an array \n",
    "arr = np.array([1, 7, 13, 105])\n",
    "\n",
    "# Determine the size of the memory occupied by the array\n",
    "memory_size = arr.nbytes\n",
    "\n",
    "print(\"Memory size:\", memory_size)"
   ]
  }
 ],
 "metadata": {
  "kernelspec": {
   "display_name": "Python 3",
   "language": "python",
   "name": "python3"
  },
  "language_info": {
   "codemirror_mode": {
    "name": "ipython",
    "version": 3
   },
   "file_extension": ".py",
   "mimetype": "text/x-python",
   "name": "python",
   "nbconvert_exporter": "python",
   "pygments_lexer": "ipython3",
   "version": "3.11.3"
  }
 },
 "nbformat": 4,
 "nbformat_minor": 2
}
