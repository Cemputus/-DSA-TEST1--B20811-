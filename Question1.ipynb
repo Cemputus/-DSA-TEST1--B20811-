{
 "cells": [
  {
   "cell_type": "markdown",
   "metadata": {},
   "source": [
    "###    QUESTION 1\n",
    " a) The data structure being used in the code is a list. It is suitable for this task because a list allows a user to store a collection of numbers in a specific order.\n",
    "\n",
    "b) Initializing maxSum with the first element of the list ensures that we have a starting point for calculating the maximum subarray sum. This initialization sets the initial value of maxSum to the first element, so if all the elements in the list are negative, the maximum subarray sum will be the first element itself.\n",
    "\n",
    "c) The for loop iterates through the list by using the range function and the length of the list. The sumz variable keeps track of the current sum of the subarray. It is updated within the loop by adding the current element of the list to the sumz variable.\n",
    "\n",
    "d) The code identifies the maximum subarray sum by comparing the current sum (sumz) with the maximum sum (maxSum). If the current sum becomes negative, it means that including the previous elements in the subarray would decrease the sum, so we reset the sumz to 0. If the current sum is greater than the maximum sum, we update the maximum sum to the current sum.\n",
    "\n",
    "e) The time complexity of this code for finding the maximum subarray sum is O(n), where n is the number of elements in the list. The choice of using a list and the algorithm used contribute to its efficiency because it only requires a single pass through the list to find the maximum subarray sum.\n",
    "\n",
    "\n"
   ]
  },
  {
   "cell_type": "markdown",
   "metadata": {},
   "source": [
    "***EMMANUEL NSUBUGA***"
   ]
  }
 ],
 "metadata": {
  "kernelspec": {
   "display_name": "Python 3",
   "language": "python",
   "name": "python3"
  },
  "language_info": {
   "codemirror_mode": {
    "name": "ipython",
    "version": 3
   },
   "file_extension": ".py",
   "mimetype": "text/x-python",
   "name": "python",
   "nbconvert_exporter": "python",
   "pygments_lexer": "ipython3",
   "version": "3.11.3"
  }
 },
 "nbformat": 4,
 "nbformat_minor": 2
}
